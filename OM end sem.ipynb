{
 "cells": [
  {
   "cell_type": "code",
   "execution_count": 1,
   "metadata": {},
   "outputs": [],
   "source": [
    "from copy import copy, deepcopy"
   ]
  },
  {
   "cell_type": "code",
   "execution_count": 2,
   "metadata": {},
   "outputs": [],
   "source": [
    "class Helper:\n",
    "\n",
    "    @staticmethod\n",
    "    def varToLit(v):\n",
    "        if (v < 0):\n",
    "            return (2 * -v) - 1\n",
    "        else:\n",
    "            return 2 * v"
   ]
  },
  {
   "cell_type": "code",
   "execution_count": 3,
   "metadata": {},
   "outputs": [],
   "source": [
    "class Clause:\n",
    "    def __init__(self):\n",
    "        self.literals = list()\n",
    "        self.left_watch = int()\n",
    "        self.right_watch = int()\n",
    "        self.prev_clause = int()\n",
    "        self.next_clause = int()\n",
    "\n",
    "    def insert_lit(self, inp_lit, max_var):\n",
    "        assert(int(inp_lit) <= int(max_var))\n",
    "        self.literals.append(Helper.varToLit(int(inp_lit)))\n",
    "\n",
    "    def insert(self, new_clause, max_var):\n",
    "        for lit in new_clause:\n",
    "            if lit is not \"0\":\n",
    "                self.insert_lit(lit, max_var)"
   ]
  },
  {
   "cell_type": "code",
   "execution_count": 4,
   "metadata": {},
   "outputs": [],
   "source": [
    "class Solver:\n",
    "    \n",
    "    def __init__(self):\n",
    "        self.cnf = list()\n",
    "        self.num_vars = int()\n",
    "        self.num_clause = int()\n",
    "        self.num_lits = int()\n",
    "\n",
    "    def read_input(self, filename):\n",
    "        f = open(filename)\n",
    "        lines = [line.split() for line in f]\n",
    "        p_encountered = False\n",
    "        clauses_count = 0\n",
    "        assert(len([1 for line in lines if line[0] == 'p']) == 1)\n",
    "        for line in lines:\n",
    "            if line[0] == 'c':\n",
    "                continue\n",
    "            elif line[0] == 'p':\n",
    "                p_encountered = True\n",
    "                self.num_vars = int(line[2])\n",
    "                self.num_clause = int(line[3])\n",
    "            else:\n",
    "                assert(p_encountered)\n",
    "\n",
    "                new_clause = Clause()\n",
    "                new_clause.insert(line, self.num_vars)\n",
    "                assert(len(new_clause.literals) != 0)\n",
    "                my_solver.cnf.append(new_clause)\n",
    "                del new_clause\n",
    "                \n",
    "                clauses_count += 1\n",
    "\n",
    "        assert(self.num_clause == clauses_count)"
   ]
  },
  {
   "cell_type": "code",
   "execution_count": 4,
   "metadata": {},
   "outputs": [],
   "source": [
    "    "
   ]
  },
  {
   "cell_type": "code",
   "execution_count": 5,
   "metadata": {},
   "outputs": [],
   "source": [
    "my_solver = Solver()"
   ]
  },
  {
   "cell_type": "code",
   "execution_count": 6,
   "metadata": {},
   "outputs": [],
   "source": [
    "filename = \"E:/Studies/SEM8/OM/Assignment/test/unsat/unsat.cnf\"\n",
    "my_solver.read_input(filename)\n"
   ]
  },
  {
   "cell_type": "code",
   "execution_count": 7,
   "metadata": {},
   "outputs": [
    {
     "output_type": "stream",
     "name": "stdout",
     "text": "[2, 4]\n[1, 4]\n[2, 3]\n[1, 3]\n"
    }
   ],
   "source": [
    "for clause in my_solver.cnf:\n",
    "    print(clause.literals)"
   ]
  },
  {
   "cell_type": "code",
   "execution_count": null,
   "metadata": {},
   "outputs": [],
   "source": []
  }
 ],
 "metadata": {
  "kernelspec": {
   "display_name": "Python 3.6.4 64-bit",
   "language": "python",
   "name": "python36464bit7d2e4524a0bc439ab2904c1d93cce644"
  },
  "language_info": {
   "codemirror_mode": {
    "name": "ipython",
    "version": 3
   },
   "file_extension": ".py",
   "mimetype": "text/x-python",
   "name": "python",
   "nbconvert_exporter": "python",
   "pygments_lexer": "ipython3",
   "version": "3.6.4-final"
  }
 },
 "nbformat": 4,
 "nbformat_minor": 4
}